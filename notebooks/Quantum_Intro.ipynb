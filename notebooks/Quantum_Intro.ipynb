{
 "cells": [
  {
   "cell_type": "markdown",
   "metadata": {},
   "source": [
    "# Introduction To Quantum Computing"
   ]
  },
  {
   "cell_type": "markdown",
   "metadata": {},
   "source": [
    "## References\n",
    "\n",
    " * [Quantum computing for the very curious](https://quantum.country/qcvc) by Andy Matuschak and Michael Nielsen"
   ]
  },
  {
   "cell_type": "markdown",
   "metadata": {},
   "source": [
    "## Books"
   ]
  },
  {
   "cell_type": "code",
   "execution_count": 2,
   "metadata": {},
   "outputs": [
    {
     "data": {
      "text/html": [
       "<iframe style=\"width:120px;height:240px;\" marginwidth=\"0\" marginheight=\"0\" scrolling=\"no\" frameborder=\"0\"\n",
       "    src=\"//ws-na.amazon-adsystem.com/widgets/q?ServiceVersion=20070822&OneJS=1&Operation=GetAdHtml&MarketPlace=US&source=ac&ref=qf_sp_asin_til&ad_type=product_link&tracking_id=quant02a-20&marketplace=amazon&region=US&placement=0521199565&asins=0521199565&linkId=b8ac83c32d6b27fddb4f147fd8fd313a&show_border=true&link_opens_in_new_window=true&price_color=333333&title_color=0066c0&bg_color=ffffff\">\n",
       "</iframe>\n",
       "<iframe style=\"width:120px;height:240px;\" marginwidth=\"0\" marginheight=\"0\" scrolling=\"no\" frameborder=\"0\" \n",
       "    src=\"//ws-na.amazon-adsystem.com/widgets/q?ServiceVersion=20070822&OneJS=1&Operation=GetAdHtml&MarketPlace=US&source=ac&ref=tf_til&ad_type=product_link&tracking_id=quant02a-20&marketplace=amazon&region=US&placement=3030239217&asins=3030239217&linkId=fb7df87447539b2dc22a6655c89ec9af&show_border=true&link_opens_in_new_window=true&price_color=333333&title_color=0066c0&bg_color=ffffff\">\n",
       "</iframe>\n",
       "<iframe style=\"width:120px;height:240px;\" marginwidth=\"0\" marginheight=\"0\" scrolling=\"no\" frameborder=\"0\"\n",
       "    src=\"//ws-na.amazon-adsystem.com/widgets/q?ServiceVersion=20070822&OneJS=1&Operation=GetAdHtml&MarketPlace=US&source=ac&ref=tf_til&ad_type=product_link&tracking_id=quant02a-20&marketplace=amazon&region=US&placement=1107002176&asins=1107002176&linkId=f127b205916a0f0081dda4c910e6b838&show_border=true&link_opens_in_new_window=true&price_color=333333&title_color=0066c0&bg_color=ffffff\">\n",
       "</iframe>\n"
      ],
      "text/plain": [
       "<IPython.core.display.HTML object>"
      ]
     },
     "metadata": {},
     "output_type": "display_data"
    }
   ],
   "source": [
    "%%html\n",
    "<iframe style=\"width:120px;height:240px;\" marginwidth=\"0\" marginheight=\"0\" scrolling=\"no\" frameborder=\"0\"\n",
    "    src=\"//ws-na.amazon-adsystem.com/widgets/q?ServiceVersion=20070822&OneJS=1&Operation=GetAdHtml&MarketPlace=US&source=ac&ref=qf_sp_asin_til&ad_type=product_link&tracking_id=quant02a-20&marketplace=amazon&region=US&placement=0521199565&asins=0521199565&linkId=b8ac83c32d6b27fddb4f147fd8fd313a&show_border=true&link_opens_in_new_window=true&price_color=333333&title_color=0066c0&bg_color=ffffff\">\n",
    "</iframe>\n",
    "<iframe style=\"width:120px;height:240px;\" marginwidth=\"0\" marginheight=\"0\" scrolling=\"no\" frameborder=\"0\" \n",
    "    src=\"//ws-na.amazon-adsystem.com/widgets/q?ServiceVersion=20070822&OneJS=1&Operation=GetAdHtml&MarketPlace=US&source=ac&ref=tf_til&ad_type=product_link&tracking_id=quant02a-20&marketplace=amazon&region=US&placement=3030239217&asins=3030239217&linkId=fb7df87447539b2dc22a6655c89ec9af&show_border=true&link_opens_in_new_window=true&price_color=333333&title_color=0066c0&bg_color=ffffff\">\n",
    "</iframe>\n",
    "<iframe style=\"width:120px;height:240px;\" marginwidth=\"0\" marginheight=\"0\" scrolling=\"no\" frameborder=\"0\"\n",
    "    src=\"//ws-na.amazon-adsystem.com/widgets/q?ServiceVersion=20070822&OneJS=1&Operation=GetAdHtml&MarketPlace=US&source=ac&ref=tf_til&ad_type=product_link&tracking_id=quant02a-20&marketplace=amazon&region=US&placement=1107002176&asins=1107002176&linkId=f127b205916a0f0081dda4c910e6b838&show_border=true&link_opens_in_new_window=true&price_color=333333&title_color=0066c0&bg_color=ffffff\">\n",
    "</iframe>"
   ]
  },
  {
   "cell_type": "markdown",
   "metadata": {},
   "source": [
    "## Classical Bit"
   ]
  },
  {
   "cell_type": "markdown",
   "metadata": {},
   "source": [
    "**Classical bit** (or just **bit**) is a mathematical entity, whose state is number $0$ or $1$ (in analogous interpretation _false_ or _true_). The set of these numbers $\\{0,1\\}$ is known as _Boolean domain_.\n",
    "\n",
    "In real world, bit is represented by a physical entity:\n",
    " * in computer's memory chip bits are stored as electric charges on nanometer-scale capacitors\n",
    " * in hard drives bits are stored as micrometer-scale magnets\n",
    "\n",
    "Computer engineers and designers made details of bit's physical implementation invisible to programmers (except for programmers of high performance computing algorithms)."
   ]
  },
  {
   "cell_type": "markdown",
   "metadata": {},
   "source": [
    "## Quantum Bit"
   ]
  },
  {
   "cell_type": "markdown",
   "metadata": {},
   "source": [
    "**Quantum bit** (or **qubit**) is a mathematical entity, whose state is a vector in 2D complex space $\\mathbb{C}^2$. The space of these vectors is known as _state space_.\n",
    "\n",
    "Examples of possible states of a qubit: $$\\begin{pmatrix} 1\\\\ 0 \\end{pmatrix}, \\text{or} \\begin{pmatrix} 0\\\\ 1 \\end{pmatrix}, \\text{or} \\begin{pmatrix} 1/\\sqrt{2}\\\\ 1/\\sqrt{2} \\end{pmatrix}.$$\n",
    "\n",
    "Physical entity of a qubit is still in research state. Qubit potentially could be stored as an electron, or a photon, or an atom, or exotic state of matter as superconducting circuit. Ultimately, efforts of engineers and designers performed for classical computers will be applied to quantum computers and qubit's physical implementation will be invisible to programmers."
   ]
  },
  {
   "cell_type": "markdown",
   "metadata": {},
   "source": [
    "## Basis in 2D Vector Space"
   ]
  },
  {
   "cell_type": "markdown",
   "metadata": {},
   "source": [
    "## _Braket_ Notation for Computational Basis"
   ]
  },
  {
   "cell_type": "code",
   "execution_count": null,
   "metadata": {},
   "outputs": [],
   "source": []
  }
 ],
 "metadata": {
  "kernelspec": {
   "display_name": "Python 3",
   "language": "python",
   "name": "python3"
  },
  "language_info": {
   "codemirror_mode": {
    "name": "ipython",
    "version": 3
   },
   "file_extension": ".py",
   "mimetype": "text/x-python",
   "name": "python",
   "nbconvert_exporter": "python",
   "pygments_lexer": "ipython3",
   "version": "3.7.6"
  }
 },
 "nbformat": 4,
 "nbformat_minor": 4
}
